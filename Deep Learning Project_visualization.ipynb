{
 "cells": [
  {
   "cell_type": "code",
   "execution_count": null,
   "id": "b925d837-39c3-439f-8cc9-cd9d53910d9f",
   "metadata": {},
   "outputs": [],
   "source": [
    "#imports\n",
    "import numpy as np\n",
    "import pandas as pd\n",
    "import matplotlib.pyplot as plt\n",
    "import seaborn as sns\n",
    "import plotly.express as px\n",
    "import spacy\n",
    "import scattertext as st\n",
    "import pickle\n",
    "from wordcloud import WordCloud"
   ]
  },
  {
   "cell_type": "code",
   "execution_count": null,
   "id": "7dacd52b-5be8-47a3-9f91-1ef0e7ab0909",
   "metadata": {},
   "outputs": [],
   "source": [
    "# read data\n",
    "data = pd.read_csv(\"ireland-news-headlines.csv\",parse_dates = [\"publish_date\"]).astype({\"headline_category\":\"category\"})"
   ]
  },
  {
   "cell_type": "code",
   "execution_count": null,
   "id": "377af3ba-0adc-4f83-b668-05d5261cd943",
   "metadata": {},
   "outputs": [],
   "source": [
    "data.head()"
   ]
  },
  {
   "cell_type": "code",
   "execution_count": null,
   "id": "17e886ef-a98c-45c6-90f5-3b50b2ece88a",
   "metadata": {},
   "outputs": [],
   "source": [
    "data.info()"
   ]
  },
  {
   "cell_type": "code",
   "execution_count": null,
   "id": "1449a937-498b-4a6b-8195-3d4edf7d70b1",
   "metadata": {},
   "outputs": [],
   "source": [
    "data.headline_category#.str.split(\".\")"
   ]
  },
  {
   "cell_type": "code",
   "execution_count": null,
   "id": "5659100d-9824-41b3-ae08-7f3412e919c1",
   "metadata": {},
   "outputs": [],
   "source": [
    "# Drop the rows where 'headline_category' is NaN to avoid the TypeError\n",
    "data = data.dropna(subset=['headline_category'])\n",
    "\n",
    "# Count the dots in each 'headline_category', fill NaN values with 0, then get the max\n",
    "max_dots = int(data['headline_category'].str.count('\\.').fillna(0).max())\n",
    "\n",
    "# Create new column names based on the max number of dots found\n",
    "# Using your specific naming scheme\n",
    "new_cols = ['main_category'] + ['1st sub-category'] + ['2nd sub-category'] + ['3rd sub-category']\n",
    "\n",
    "# Split the 'headline_category' column and expand it into a DataFrame\n",
    "split_data = data['headline_category'].str.split('\\.', expand=True)\n",
    "\n",
    "# Rename columns in the new DataFrame\n",
    "split_data.columns = new_cols\n",
    "\n",
    "# Merge the new DataFrame with the original DataFrame\n",
    "data = pd.concat([data, split_data], axis=1)\n",
    "data.drop('headline_category',axis = 1, inplace = True)\n",
    "\n",
    "\n"
   ]
  },
  {
   "cell_type": "code",
   "execution_count": null,
   "id": "896774ef",
   "metadata": {},
   "outputs": [],
   "source": [
    "data[new_cols] = data[new_cols].astype(\"category\")"
   ]
  },
  {
   "cell_type": "code",
   "execution_count": null,
   "id": "7a3a0ad0-6b89-4ff1-a0a9-2eb904d2fc5c",
   "metadata": {},
   "outputs": [],
   "source": [
    "data.info()"
   ]
  },
  {
   "cell_type": "code",
   "execution_count": null,
   "id": "bf74e377",
   "metadata": {},
   "outputs": [],
   "source": [
    "hist_columns = data.columns.difference(['headline_text','publish_date'])\n",
    "for col in hist_columns:\n",
    "    fig = px.histogram(data[col],x=col)\n",
    "    fig.show()"
   ]
  },
  {
   "cell_type": "code",
   "execution_count": null,
   "id": "9a5a6588",
   "metadata": {},
   "outputs": [],
   "source": [
    "# Resampling data on monthly basis\n",
    "data_resampled = data.resample('M', on='publish_date').main_category.value_counts().reset_index(name='Count')\n",
    "\n",
    "# Plotting the data\n",
    "fig = px.line(data_resampled, x=\"publish_date\", y=\"Count\", color='main_category', title='Article Count by Main Category over Time')\n",
    "fig.show()\n"
   ]
  },
  {
   "cell_type": "code",
   "execution_count": null,
   "id": "8b5e30a0",
   "metadata": {},
   "outputs": [],
   "source": [
    "# Resampling data on monthly basis\n",
    "data_resampled = data.resample('M', on='publish_date')['1st sub-category'].value_counts().reset_index(name='Count')\n",
    "\n",
    "# Plotting the data\n",
    "fig = px.line(data_resampled, x=\"publish_date\", y=\"Count\", color='1st sub-category', title='Article Count by 1st sub-category over Time')\n",
    "fig.show()"
   ]
  },
  {
   "cell_type": "code",
   "execution_count": null,
   "id": "af3d6603",
   "metadata": {},
   "outputs": [],
   "source": [
    "data.sample(10)"
   ]
  },
  {
   "cell_type": "code",
   "execution_count": null,
   "id": "5cffa2e9",
   "metadata": {},
   "outputs": [],
   "source": [
    "\n",
    "# Take a 1% random sample of each category from your DataFrame\n",
    "data_sample = data.groupby('main_category').apply(lambda x: x.sample(frac=0.01, random_state=1)).reset_index(drop=True)\n",
    "\n",
    "# This code has been used to create scattertext corpus , to make things easier the corpus has been saved and contains a 1% data sample.\n",
    "'''\n",
    "# Load the English model for spaCy\n",
    "nlp = spacy.load('en_core_web_sm')\n",
    "\n",
    "# Create a scattertext Corpus using the sampled DataFrame\n",
    "corpus_sample = st.CorpusFromPandas(data_sample, \n",
    "                                    category_col='main_category', \n",
    "                                    text_col='headline_text', \n",
    "                                    nlp=nlp).build()\n",
    "'''\n",
    "# The code for loading the corpus if we need.\n",
    "'''\n",
    "with open('sample_corpus.pkl', 'rb') as f:\n",
    "    corpus_sample = pickle.load(f)\n",
    "'''"
   ]
  },
  {
   "cell_type": "code",
   "execution_count": null,
   "id": "d2d5da0e",
   "metadata": {},
   "outputs": [],
   "source": [
    "# Code for creating the html visualizations also to make running faster been saved on disk:\n",
    "'''\n",
    "# Iterate over each unique main_category value\n",
    "for category in data_sample['main_category'].unique():\n",
    "    # Generate the scattertext visualization for the current category\n",
    "    html = st.produce_scattertext_explorer(corpus_sample,\n",
    "                                           category=category,\n",
    "                                           category_name=category,\n",
    "                                           not_category_name='Other Categories',\n",
    "                                           minimum_term_frequency=5,\n",
    "                                           pmi_threshold_coefficient=5,\n",
    "                                           width_in_pixels=1000,\n",
    "                                           metadata=data_sample['publish_date'])\n",
    "\n",
    "    # Save the visualization to an HTML file\n",
    "    with open(f'Scattertext_Visualization_{category}.html', 'w') as f:\n",
    "        f.write(html)\n",
    "\n",
    "# Save the sample corpus to a file\n",
    "with open('sample_corpus.pkl', 'wb') as f:\n",
    "    pickle.dump(corpus_sample, f)\n",
    "\n",
    "'''"
   ]
  },
  {
   "cell_type": "code",
   "execution_count": null,
   "id": "dd7dc0fb",
   "metadata": {},
   "outputs": [],
   "source": [
    "text = \" \".join(str(headline) for headline in data.headline_text)\n",
    "wordcloud = WordCloud(background_color=\"white\").generate(text)\n",
    "plt.imshow(wordcloud, interpolation='bilinear')\n"
   ]
  },
  {
   "cell_type": "code",
   "execution_count": null,
   "id": "78166072",
   "metadata": {},
   "outputs": [],
   "source": [
    "categories = data['main_category'].unique()\n",
    "\n",
    "for category in categories:\n",
    "    text = \" \".join(str(headline) for headline in data[data['main_category'] == category].headline_text)\n",
    "    wordcloud = WordCloud(background_color=\"white\").generate(text)\n",
    "    \n",
    "    plt.imshow(wordcloud, interpolation='bilinear')\n",
    "    plt.title(f'Word Cloud for {category} Category')\n",
    "    plt.axis('off')\n",
    "    plt.show()\n"
   ]
  }
 ],
 "metadata": {
  "kernelspec": {
   "display_name": "Python 3 (ipykernel)",
   "language": "python",
   "name": "python3"
  },
  "language_info": {
   "codemirror_mode": {
    "name": "ipython",
    "version": 3
   },
   "file_extension": ".py",
   "mimetype": "text/x-python",
   "name": "python",
   "nbconvert_exporter": "python",
   "pygments_lexer": "ipython3",
   "version": "3.9.16"
  }
 },
 "nbformat": 4,
 "nbformat_minor": 5
}
